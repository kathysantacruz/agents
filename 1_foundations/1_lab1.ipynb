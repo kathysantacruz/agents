{
 "cells": [
  {
   "cell_type": "markdown",
   "metadata": {},
   "source": [
    "# Welcome to the start of your adventure in Agentic AI"
   ]
  },
  {
   "cell_type": "markdown",
   "metadata": {},
   "source": [
    "<table style=\"margin: 0; text-align: left; width:100%\">\n",
    "    <tr>\n",
    "        <td style=\"width: 150px; height: 150px; vertical-align: middle;\">\n",
    "            <img src=\"../assets/stop.png\" width=\"150\" height=\"150\" style=\"display: block;\" />\n",
    "        </td>\n",
    "        <td>\n",
    "            <h2 style=\"color:#ff7800;\">Are you ready for action??</h2>\n",
    "            <span style=\"color:#ff7800;\">Have you completed all the setup steps in the <a href=\"../setup/\">setup</a> folder?<br/>\n",
    "            Have you checked out the guides in the <a href=\"../guides/01_intro.ipynb\">guides</a> folder?<br/>\n",
    "            Well in that case, you're ready!!\n",
    "            </span>\n",
    "        </td>\n",
    "    </tr>\n",
    "</table>"
   ]
  },
  {
   "cell_type": "markdown",
   "metadata": {},
   "source": [
    "<table style=\"margin: 0; text-align: left; width:100%\">\n",
    "    <tr>\n",
    "        <td style=\"width: 150px; height: 150px; vertical-align: middle;\">\n",
    "            <img src=\"../assets/tools.png\" width=\"150\" height=\"150\" style=\"display: block;\" />\n",
    "        </td>\n",
    "        <td>\n",
    "            <h2 style=\"color:#00bfff;\">This code is a live resource - keep an eye out for my updates</h2>\n",
    "            <span style=\"color:#00bfff;\">I push updates regularly. As people ask questions or have problems, I add more examples and improve explanations. As a result, the code below might not be identical to the videos, as I've added more steps and better comments. Consider this like an interactive book that accompanies the lectures.<br/><br/>\n",
    "            I try to send emails regularly with important updates related to the course. You can find this in the 'Announcements' section of Udemy in the left sidebar. You can also choose to receive my emails via your Notification Settings in Udemy. I'm respectful of your inbox and always try to add value with my emails!\n",
    "            </span>\n",
    "        </td>\n",
    "    </tr>\n",
    "</table>"
   ]
  },
  {
   "cell_type": "markdown",
   "metadata": {},
   "source": [
    "### And please do remember to contact me if I can help\n",
    "\n",
    "And I love to connect: https://www.linkedin.com/in/eddonner/\n",
    "\n",
    "\n",
    "### New to Notebooks like this one? Head over to the guides folder!\n",
    "\n",
    "Just to check you've already added the Python and Jupyter extensions to Cursor, if not already installed:\n",
    "- Open extensions (View >> extensions)\n",
    "- Search for python, and when the results show, click on the ms-python one, and Install it if not already installed\n",
    "- Search for jupyter, and when the results show, click on the Microsoft one, and Install it if not already installed  \n",
    "Then View >> Explorer to bring back the File Explorer.\n",
    "\n",
    "And then:\n",
    "1. Click where it says \"Select Kernel\" near the top right, and select the option called `.venv (Python 3.12.9)` or similar, which should be the first choice or the most prominent choice. You may need to choose \"Python Environments\" first.\n",
    "2. Click in each \"cell\" below, starting with the cell immediately below this text, and press Shift+Enter to run\n",
    "3. Enjoy!\n",
    "\n",
    "After you click \"Select Kernel\", if there is no option like `.venv (Python 3.12.9)` then please do the following:  \n",
    "1. On Mac: From the Cursor menu, choose Settings >> VS Code Settings (NOTE: be sure to select `VSCode Settings` not `Cursor Settings`);  \n",
    "On Windows PC: From the File menu, choose Preferences >> VS Code Settings(NOTE: be sure to select `VSCode Settings` not `Cursor Settings`)  \n",
    "2. In the Settings search bar, type \"venv\"  \n",
    "3. In the field \"Path to folder with a list of Virtual Environments\" put the path to the project root, like C:\\Users\\username\\projects\\agents (on a Windows PC) or /Users/username/projects/agents (on Mac or Linux).  \n",
    "And then try again.\n",
    "\n",
    "Having problems with missing Python versions in that list? Have you ever used Anaconda before? It might be interferring. Quit Cursor, bring up a new command line, and make sure that your Anaconda environment is deactivated:    \n",
    "`conda deactivate`  \n",
    "And if you still have any problems with conda and python versions, it's possible that you will need to run this too:  \n",
    "`conda config --set auto_activate_base false`  \n",
    "and then from within the Agents directory, you should be able to run `uv python list` and see the Python 3.12 version."
   ]
  },
  {
   "cell_type": "code",
   "execution_count": 1,
   "metadata": {},
   "outputs": [],
   "source": [
    "# First let's do an import\n",
    "from dotenv import load_dotenv\n"
   ]
  },
  {
   "cell_type": "code",
   "execution_count": 2,
   "metadata": {},
   "outputs": [
    {
     "data": {
      "text/plain": [
       "True"
      ]
     },
     "execution_count": 2,
     "metadata": {},
     "output_type": "execute_result"
    }
   ],
   "source": [
    "# Next it's time to load the API keys into environment variables\n",
    "\n",
    "load_dotenv(override=True)"
   ]
  },
  {
   "cell_type": "code",
   "execution_count": 3,
   "metadata": {},
   "outputs": [
    {
     "name": "stdout",
     "output_type": "stream",
     "text": [
      "OpenAI API Key exists and begins sk-proj-\n"
     ]
    }
   ],
   "source": [
    "# Check the keys\n",
    "\n",
    "import os\n",
    "openai_api_key = os.getenv('OPENAI_API_KEY')\n",
    "\n",
    "if openai_api_key:\n",
    "    print(f\"OpenAI API Key exists and begins {openai_api_key[:8]}\")\n",
    "else:\n",
    "    print(\"OpenAI API Key not set - please head to the troubleshooting guide in the setup folder\")\n",
    "    \n"
   ]
  },
  {
   "cell_type": "code",
   "execution_count": 4,
   "metadata": {},
   "outputs": [],
   "source": [
    "# And now - the all important import statement\n",
    "# If you get an import error - head over to troubleshooting guide\n",
    "\n",
    "from openai import OpenAI"
   ]
  },
  {
   "cell_type": "code",
   "execution_count": 5,
   "metadata": {},
   "outputs": [],
   "source": [
    "# And now we'll create an instance of the OpenAI class\n",
    "# If you're not sure what it means to create an instance of a class - head over to the guides folder!\n",
    "# If you get a NameError - head over to the guides folder to learn about NameErrors\n",
    "\n",
    "openai = OpenAI()"
   ]
  },
  {
   "cell_type": "code",
   "execution_count": 6,
   "metadata": {},
   "outputs": [],
   "source": [
    "# Create a list of messages in the familiar OpenAI format\n",
    "\n",
    "messages = [{\"role\": \"user\", \"content\": \"What is 2+2?\"}]"
   ]
  },
  {
   "cell_type": "code",
   "execution_count": 7,
   "metadata": {},
   "outputs": [
    {
     "name": "stdout",
     "output_type": "stream",
     "text": [
      "2 + 2 equals 4.\n"
     ]
    }
   ],
   "source": [
    "# And now call it! Any problems, head to the troubleshooting guide\n",
    "# This uses GPT 4.1 nano, the incredibly cheap model\n",
    "\n",
    "response = openai.chat.completions.create(\n",
    "    model=\"gpt-4.1-nano\",\n",
    "    messages=messages\n",
    ")\n",
    "\n",
    "print(response.choices[0].message.content)\n"
   ]
  },
  {
   "cell_type": "code",
   "execution_count": 8,
   "metadata": {},
   "outputs": [],
   "source": [
    "# And now - let's ask for a question:\n",
    "\n",
    "question = \"Please propose a hard, challenging question to assess someone's IQ. Respond only with the question.\"\n",
    "messages = [{\"role\": \"user\", \"content\": question}]\n"
   ]
  },
  {
   "cell_type": "code",
   "execution_count": 9,
   "metadata": {},
   "outputs": [
    {
     "name": "stdout",
     "output_type": "stream",
     "text": [
      "If it takes 5 machines 5 minutes to make 5 widgets, how long would it take 100 machines to make 100 widgets?\n"
     ]
    }
   ],
   "source": [
    "# ask it - this uses GPT 4.1 mini, still cheap but more powerful than nano\n",
    "\n",
    "response = openai.chat.completions.create(\n",
    "    model=\"gpt-4.1-mini\",\n",
    "    messages=messages\n",
    ")\n",
    "\n",
    "question = response.choices[0].message.content\n",
    "\n",
    "print(question)\n"
   ]
  },
  {
   "cell_type": "code",
   "execution_count": 10,
   "metadata": {},
   "outputs": [],
   "source": [
    "# form a new messages list\n",
    "messages = [{\"role\": \"user\", \"content\": question}]\n"
   ]
  },
  {
   "cell_type": "code",
   "execution_count": 11,
   "metadata": {},
   "outputs": [
    {
     "name": "stdout",
     "output_type": "stream",
     "text": [
      "Let's analyze the problem step-by-step:\n",
      "\n",
      "- Given: 5 machines take 5 minutes to make 5 widgets.\n",
      "- First, find the rate of one machine.\n",
      "\n",
      "Since 5 machines make 5 widgets in 5 minutes, the total production rate is:\n",
      "\n",
      "\\[\n",
      "\\frac{5 \\text{ widgets}}{5 \\text{ minutes}} = 1 \\text{ widget per minute (with 5 machines)}\n",
      "\\]\n",
      "\n",
      "So with 5 machines, the rate is 1 widget per minute total.\n",
      "\n",
      "Therefore, for one machine, the rate is:\n",
      "\n",
      "\\[\n",
      "\\frac{1 \\text{ widget per minute}}{5} = \\frac{1}{5} \\text{ widget per minute per machine}\n",
      "\\]\n",
      "\n",
      "Now, with 100 machines:\n",
      "\n",
      "\\[\n",
      "100 \\times \\frac{1}{5} = 20 \\text{ widgets per minute}\n",
      "\\]\n",
      "\n",
      "We want to find how long it takes 100 machines to make 100 widgets.\n",
      "\n",
      "Since the production rate is 20 widgets per minute, the time to make 100 widgets is:\n",
      "\n",
      "\\[\n",
      "\\frac{100 \\text{ widgets}}{20 \\text{ widgets per minute}} = 5 \\text{ minutes}\n",
      "\\]\n",
      "\n",
      "**Answer:** It will take **5 minutes** for 100 machines to make 100 widgets.\n"
     ]
    }
   ],
   "source": [
    "# Ask it again\n",
    "\n",
    "response = openai.chat.completions.create(\n",
    "    model=\"gpt-4.1-mini\",\n",
    "    messages=messages\n",
    ")\n",
    "\n",
    "answer = response.choices[0].message.content\n",
    "print(answer)\n"
   ]
  },
  {
   "cell_type": "code",
   "execution_count": 12,
   "metadata": {},
   "outputs": [
    {
     "data": {
      "text/markdown": [
       "Let's analyze the problem step-by-step:\n",
       "\n",
       "- Given: 5 machines take 5 minutes to make 5 widgets.\n",
       "- First, find the rate of one machine.\n",
       "\n",
       "Since 5 machines make 5 widgets in 5 minutes, the total production rate is:\n",
       "\n",
       "\\[\n",
       "\\frac{5 \\text{ widgets}}{5 \\text{ minutes}} = 1 \\text{ widget per minute (with 5 machines)}\n",
       "\\]\n",
       "\n",
       "So with 5 machines, the rate is 1 widget per minute total.\n",
       "\n",
       "Therefore, for one machine, the rate is:\n",
       "\n",
       "\\[\n",
       "\\frac{1 \\text{ widget per minute}}{5} = \\frac{1}{5} \\text{ widget per minute per machine}\n",
       "\\]\n",
       "\n",
       "Now, with 100 machines:\n",
       "\n",
       "\\[\n",
       "100 \\times \\frac{1}{5} = 20 \\text{ widgets per minute}\n",
       "\\]\n",
       "\n",
       "We want to find how long it takes 100 machines to make 100 widgets.\n",
       "\n",
       "Since the production rate is 20 widgets per minute, the time to make 100 widgets is:\n",
       "\n",
       "\\[\n",
       "\\frac{100 \\text{ widgets}}{20 \\text{ widgets per minute}} = 5 \\text{ minutes}\n",
       "\\]\n",
       "\n",
       "**Answer:** It will take **5 minutes** for 100 machines to make 100 widgets."
      ],
      "text/plain": [
       "<IPython.core.display.Markdown object>"
      ]
     },
     "metadata": {},
     "output_type": "display_data"
    }
   ],
   "source": [
    "from IPython.display import Markdown, display\n",
    "\n",
    "display(Markdown(answer))\n",
    "\n"
   ]
  },
  {
   "cell_type": "markdown",
   "metadata": {},
   "source": [
    "<table style=\"margin: 0; text-align: left; width:100%\">\n",
    "    <tr>\n",
    "        <td style=\"width: 150px; height: 150px; vertical-align: middle;\">\n",
    "            <img src=\"../assets/exercise.png\" width=\"150\" height=\"150\" style=\"display: block;\" />\n",
    "        </td>\n",
    "        <td>\n",
    "            <h2 style=\"color:#ff7800;\">Exercise</h2>\n",
    "            <span style=\"color:#ff7800;\">Now try this commercial application:<br/>\n",
    "            First ask the LLM to pick a business area that might be worth exploring for an Agentic AI opportunity.<br/>\n",
    "            Then ask the LLM to present a pain-point in that industry - something challenging that might be ripe for an Agentic solution.<br/>\n",
    "            Finally have 3 third LLM call propose the Agentic AI solution.\n",
    "            </span>\n",
    "        </td>\n",
    "    </tr>\n",
    "</table>"
   ]
  },
  {
   "cell_type": "code",
   "execution_count": 15,
   "metadata": {},
   "outputs": [
    {
     "name": "stdout",
     "output_type": "stream",
     "text": [
      "Certainly! Here’s a detailed business idea in the Agentic AI space:\n",
      "\n",
      "**Business Idea: Agentic AI Personal Research Assistant for Professionals**\n",
      "\n",
      "---\n",
      "\n",
      "**Concept:**  \n",
      "Develop an agentic AI platform that autonomously conducts deep-dive research, synthesizes information from diverse data sources, and generates actionable reports tailored to individual professionals’ needs across sectors such as law, finance, medicine, and academia.\n",
      "\n",
      "---\n",
      "\n",
      "**Why Agentic AI?**  \n",
      "Unlike typical AI tools that require manual prompts and specific instructions, an agentic AI assistant would proactively plan, explore, and iterate its research strategy autonomously. It would decide which sources to consult, identify knowledge gaps, validate information for accuracy, and summarize findings—all without continuous user input.\n",
      "\n",
      "---\n",
      "\n",
      "**Key Features:**\n",
      "\n",
      "- **Autonomous Research Planning:** The AI sets goals and milestones for research tasks based on an initial broad query  \n",
      "- **Multi-Source Data Integration:** Pulls data from journals, financial reports, legal databases, news, and proprietary APIs  \n",
      "- **Dynamic Query Refinement:** Updates its own queries as it uncovers new insights or contradictory information  \n",
      "- **Contextual Summarization:** Generates concise, domain-tailored summaries and recommendations rather than raw data dumps  \n",
      "- **Interaction Capability:** Can interact with users via chat or voice to clarify intent and deliver interim findings  \n",
      "- **Compliance & Bias Checking:** Includes mechanisms to ensure sourced data is credible and flags potential biases or outdated content  \n",
      "\n",
      "---\n",
      "\n",
      "**Potential Use Cases:**\n",
      "\n",
      "- Lawyers preparing case strategies with up-to-date precedents and legal commentary  \n",
      "- Financial analysts automating sector-specific competitive intelligence gathering  \n",
      "- Medical researchers receiving quick syntheses of latest studies on a disease or treatment  \n",
      "- Academics compiling literature reviews for grant proposals or publications  \n",
      "\n",
      "---\n",
      "\n",
      "**Business Model:**\n",
      "\n",
      "- Subscription tiers based on volume and specialization (e.g., generalist access vs. specialized legal or medical modules)  \n",
      "- Enterprise licensing for law firms, hospitals, universities, and financial institutions  \n",
      "- Custom consulting to train and tune agents for niche domains or proprietary data sets  \n",
      "\n",
      "---\n",
      "\n",
      "**Why It’s Worth Exploring:**  \n",
      "Agentic AI’s autonomous capabilities can drastically reduce the time professionals spend on grunt research work, increasing productivity and decision quality. Current tools are fragmented and reactive; a truly agentic assistant could be a generational leap in knowledge work automation.\n",
      "\n",
      "---\n",
      "\n",
      "If you want, I can help outline a go-to-market strategy or technical architecture next!\n",
      "Sure! Could you please specify which industry you are referring to? This will help me propose a relevant pain-point that could benefit from an Agentic solution.\n",
      "Certainly! Here's a proposal for an **Agentic AI solution**:\n",
      "\n",
      "---\n",
      "\n",
      "## Proposal: Agentic AI Solution\n",
      "\n",
      "### Overview\n",
      "Agentic AI refers to artificial intelligence systems designed to act autonomously, make decisions, and pursue goals in dynamic environments. These AI agents exhibit agency by perceiving their environment, reasoning, and taking actions to achieve specific objectives without needing constant human intervention.\n",
      "\n",
      "### Key Features of the Agentic AI Solution\n",
      "1. **Autonomy**  \n",
      "   The system operates independently, assessing situations and making decisions based on its knowledge, experiences, and goals.\n",
      "\n",
      "2. **Goal-Oriented Behavior**  \n",
      "   The AI can set, revise, and prioritize goals to optimize outcomes, adapting to changing conditions as needed.\n",
      "\n",
      "3. **Perception and Understanding**  \n",
      "   Equipped with advanced sensors or data inputs, the agent interprets its environment, learns from interactions, and updates its internal models.\n",
      "\n",
      "4. **Reasoning and Planning**  \n",
      "   It uses sophisticated reasoning algorithms—such as reinforcement learning, planning, and probabilistic reasoning—to determine optimal sequences of actions.\n",
      "\n",
      "5. **Learning and Adaptation**  \n",
      "   Continuous learning enables the agent to improve over time by incorporating feedback, discovering new strategies, and adjusting to novel scenarios.\n",
      "\n",
      "6. **Interactivity and Communication**  \n",
      "   The AI can interact with humans and other agents, negotiating, collaborating, or reporting status as necessary.\n",
      "\n",
      "---\n",
      "\n",
      "### Proposed Architecture\n",
      "\n",
      "1. **Perception Module**  \n",
      "   - Data acquisition via sensors, APIs, or databases  \n",
      "   - Preprocessing and feature extraction\n",
      "\n",
      "2. **Knowledge Base & World Model**  \n",
      "   - Stores facts, rules, and environment models  \n",
      "   - Updates dynamically through learning\n",
      "\n",
      "3. **Decision-Making Engine**  \n",
      "   - Utilizes planning algorithms and policy networks  \n",
      "   - Handles uncertainty through probabilistic methods or reinforcement learning  \n",
      "\n",
      "4. **Actuation Module**  \n",
      "   - Executes selected actions in the environment  \n",
      "   - Interfaces with robotic systems, software applications, or service APIs\n",
      "\n",
      "5. **Learning Module**  \n",
      "   - Monitors outcomes  \n",
      "   - Performs model updates and policy refinement  \n",
      "\n",
      "6. **Communication Interface**  \n",
      "   - Natural Language Processing (NLP) for human interaction  \n",
      "   - APIs or messaging protocols for integration with other systems\n",
      "\n",
      "---\n",
      "\n",
      "### Application Examples\n",
      "\n",
      "- **Autonomous Robotics:** Robots navigating complex environments, performing tasks such as delivery, inspection, or maintenance.\n",
      "- **Personal Assistants:** AI agents that plan and manage users’ schedules, preferences, and communications proactively.\n",
      "- **Business Process Automation:** Intelligent agents managing supply chains, customer service, and decision-making workflows autonomously.\n",
      "- **Healthcare:** Agents monitoring patient data, recommending treatments, and adapting care plans dynamically.\n",
      "\n",
      "---\n",
      "\n",
      "### Benefits\n",
      "\n",
      "- Increased efficiency through autonomous operations  \n",
      "- Ability to handle complex, dynamic, and uncertain environments  \n",
      "- Reduced need for human supervision and intervention  \n",
      "- Enhanced scalability and robustness of AI-driven systems\n",
      "\n",
      "---\n",
      "\n",
      "### Challenges and Considerations\n",
      "\n",
      "- Ensuring ethical decision-making and alignment with human values  \n",
      "- Managing risks of autonomous errors or unintended consequences  \n",
      "- Data privacy and security in agent interactions  \n",
      "- Transparency and explainability of agent decisions\n",
      "\n",
      "---\n",
      "\n",
      "### Conclusion\n",
      "\n",
      "Implementing an Agentic AI solution involves developing AI agents capable of perceiving their environment, reasoning, acting autonomously, and learning continuously to fulfill their goals. This approach can significantly enhance automation, flexibility, and effectiveness across various sectors.\n",
      "\n",
      "---\n",
      "\n",
      "If you want, I can help outline a detailed technical roadmap or suggest specific technologies and frameworks to build such a system. Let me know!\n"
     ]
    }
   ],
   "source": [
    "# First create the messages:\n",
    "\n",
    "messages = [{\"role\": \"user\", \"content\": \"Please propose a business idea that might be worth exploring for an Agentic AI opportunity.\"}]\n",
    "\n",
    "# Then make the first call:\n",
    "\n",
    "response = openai.chat.completions.create(\n",
    "    model=\"gpt-4.1-mini\",\n",
    "    messages=messages\n",
    ")\n",
    "\n",
    "# Then read the business idea:\n",
    "\n",
    "business_idea = response.choices[0].message.content\n",
    "\n",
    "# And repeat!\n",
    "messages = [{\"role\": \"user\", \"content\": \"Please propose a pain-point in that industry - something challenging that might be ripe for an Agentic solution.\"}]\n",
    "\n",
    "response = openai.chat.completions.create(\n",
    "    model=\"gpt-4.1-mini\",\n",
    "    messages=messages\n",
    ")\n",
    "pain_point = response.choices[0].message.content\n",
    "\n",
    "# And repeat!\n",
    "messages = [{\"role\": \"user\", \"content\": \"Please propose the Agentic AI solution.\"}]\n",
    "\n",
    "response = openai.chat.completions.create(\n",
    "    model=\"gpt-4.1-mini\",\n",
    "    messages=messages\n",
    ")\n",
    "agentic_solution = response.choices[0].message.content\n",
    "\n",
    "# And repeat!\n",
    "print(business_idea)\n",
    "print(pain_point)\n",
    "print(agentic_solution)"
   ]
  },
  {
   "cell_type": "markdown",
   "metadata": {},
   "source": []
  }
 ],
 "metadata": {
  "kernelspec": {
   "display_name": ".venv",
   "language": "python",
   "name": "python3"
  },
  "language_info": {
   "codemirror_mode": {
    "name": "ipython",
    "version": 3
   },
   "file_extension": ".py",
   "mimetype": "text/x-python",
   "name": "python",
   "nbconvert_exporter": "python",
   "pygments_lexer": "ipython3",
   "version": "3.12.10"
  }
 },
 "nbformat": 4,
 "nbformat_minor": 2
}
